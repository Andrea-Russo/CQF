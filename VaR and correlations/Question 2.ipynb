{
 "cells": [
  {
   "cell_type": "code",
   "execution_count": 1,
   "id": "8e1bb8ec",
   "metadata": {},
   "outputs": [],
   "source": [
    "# ANDREA RUSSO - JUNE 2021 COHORT\n",
    "# 07/2021 EXAM"
   ]
  },
  {
   "cell_type": "code",
   "execution_count": 2,
   "id": "18c25392",
   "metadata": {},
   "outputs": [],
   "source": [
    "# QUESTION 3"
   ]
  },
  {
   "cell_type": "code",
   "execution_count": 3,
   "id": "ea2706f2",
   "metadata": {},
   "outputs": [],
   "source": [
    "# Import relevant libraries\n",
    "import numpy as np\n",
    "from numpy.linalg import multi_dot\n",
    "from scipy.stats import norm\n",
    "from tabulate import tabulate"
   ]
  },
  {
   "cell_type": "code",
   "execution_count": 4,
   "id": "70995a79",
   "metadata": {},
   "outputs": [],
   "source": [
    "def VaR_ES_derivatives(mean,sigma,wts,corr,confidence,output=0):\n",
    "    \"\"\"\n",
    "    This function computes the derivatives with respect to the weights of \n",
    "    the Value at Risk and the Expected Shortfall \n",
    "    \n",
    "    Parameters\n",
    "    ------------\n",
    "    mean            array of N floats in [0,1]     expected return of assets\n",
    "    sigma           array of N floats in [0,1]     volatility of assets\n",
    "    wts             array of N floats in [0,1]     portfolio weight of asstes\n",
    "    corr            NxN matrix of floats in [0,1]  correlation matrix of assets\n",
    "    confidence      float in [0,1]                 confidence level of VaR and ES\n",
    "    output          int                            [0: VaR, 1: ES]\n",
    "    \n",
    "    Return\n",
    "    ------------\n",
    "    out: ndarray \n",
    "    A column vector with the derivatives of either VaR or ES \n",
    "    with respect to the portfolio weights as specified by the option parameter.\n",
    "    \n",
    "    \"\"\"\n",
    "    assetnum=len(wts)\n",
    "    \n",
    "    # Construct diagonal volatility matrix\n",
    "    vol=np.diagflat(sigma)\n",
    "\n",
    "    # Compute covariance matrix\n",
    "    cov=multi_dot([vol,corr,vol])\n",
    "    \n",
    "    # Initialise output vectors:\n",
    "    dVdw=np.zeros(assetnum)\n",
    "    dEdw=np.zeros(assetnum)\n",
    "    \n",
    "    # Compute derivatives of VaR ansd ES with respect to weights\n",
    "        \n",
    "    # Derivative of VaR\n",
    "    dVdw=mean+norm.ppf(1-c)*(np.dot(cov,wts))/(np.sqrt(multi_dot([wts.T,cov,wts])))\n",
    "        \n",
    "    #Derivative of ES\n",
    "    dEdw=mean-norm.pdf(norm.ppf(1-c))/(1-c)*(np.dot(cov,wts))/(np.sqrt(multi_dot([wts.T,cov,wts])))\n",
    "        \n",
    "    results=[dVdw[:,np.newaxis], dEdw[:,np.newaxis]]\n",
    "    \n",
    "    return results[output]"
   ]
  },
  {
   "cell_type": "code",
   "execution_count": 5,
   "id": "4e3899a1",
   "metadata": {},
   "outputs": [],
   "source": [
    "# Define parameters\n",
    "\n",
    "# Asset number and confidence level\n",
    "assetnum=3\n",
    "c=0.99\n",
    "\n",
    "# Means, volatilities and weights\n",
    "mean=np.array([0,0,0])[:,np.newaxis]\n",
    "sigma=np.array([0.30,0.20,0.15])[:,np.newaxis]\n",
    "wts=np.array([0.5,0.2,0.3])[:,np.newaxis]\n",
    "\n",
    "# Correlation matrix\n",
    "corr=np.array([[1,0.8,0.5],[0.8,1,0.3],[0.5,0.3,1]])"
   ]
  },
  {
   "cell_type": "code",
   "execution_count": 6,
   "id": "53830e58",
   "metadata": {},
   "outputs": [],
   "source": [
    "# Call function and store results\n",
    "VaR=np.around(VaR_ES_derivatives(mean,sigma,wts,corr,c,0),2)\n",
    "ES=np.around(VaR_ES_derivatives(mean,sigma,wts,corr,c,1),2)"
   ]
  },
  {
   "cell_type": "code",
   "execution_count": 7,
   "id": "6983bd33",
   "metadata": {},
   "outputs": [
    {
     "name": "stdout",
     "output_type": "stream",
     "text": [
      "  Asset    dVaR/dw    dES/dw\n",
      "-------  ---------  --------\n",
      "      1      -0.68     -0.78\n",
      "      2      -0.39     -0.44\n",
      "      3      -0.22     -0.25\n"
     ]
    }
   ],
   "source": [
    "# Tabulate results\n",
    "# Output resuts in table format\n",
    "table=[['1',VaR[0],ES[0]],['2',VaR[1],ES[1]],['3',VaR[2],ES[2]]]\n",
    "header = ['Asset','dVaR/dw','dES/dw']\n",
    "print(tabulate(table,headers=header))"
   ]
  }
 ],
 "metadata": {
  "kernelspec": {
   "display_name": "Python 3",
   "language": "python",
   "name": "python3"
  },
  "language_info": {
   "codemirror_mode": {
    "name": "ipython",
    "version": 3
   },
   "file_extension": ".py",
   "mimetype": "text/x-python",
   "name": "python",
   "nbconvert_exporter": "python",
   "pygments_lexer": "ipython3",
   "version": "3.8.5"
  }
 },
 "nbformat": 4,
 "nbformat_minor": 5
}
